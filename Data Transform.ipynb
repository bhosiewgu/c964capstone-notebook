{
 "cells": [
  {
   "cell_type": "code",
   "execution_count": 1,
   "id": "7850f210-b028-454d-859b-acdf7f59a7e3",
   "metadata": {},
   "outputs": [],
   "source": [
    "import os\n",
    "import pandas\n",
    "from sklearn.feature_extraction.text import CountVectorizer\n",
    "import json\n",
    "import re\n",
    "from nltk.stem import PorterStemmer\n",
    "from sklearn.metrics.pairwise import cosine_similarity\n",
    "\n",
    "text_stemmer = PorterStemmer()\n",
    "count_vectorizer = CountVectorizer(max_features=5000, stop_words=\"english\")"
   ]
  },
  {
   "cell_type": "code",
   "execution_count": 2,
   "id": "bb609528-0d04-449e-86e2-43aa9b7ea9eb",
   "metadata": {},
   "outputs": [],
   "source": [
    "movies = pandas.read_csv('movies-archive-data/tmdb_5000_movies.csv')\n",
    "credits = pandas.read_csv('movies-archive-data/tmdb_5000_credits.csv')"
   ]
  },
  {
   "cell_type": "code",
   "execution_count": 3,
   "id": "8688aa6a-4528-4995-ac95-d968e323d75a",
   "metadata": {},
   "outputs": [],
   "source": [
    "movies = movies.merge(credits, on='title')"
   ]
  },
  {
   "cell_type": "code",
   "execution_count": 4,
   "id": "cd20b5dd-1393-4bb0-a523-e49b15a4b2a7",
   "metadata": {},
   "outputs": [
    {
     "data": {
      "text/plain": [
       "(4809, 23)"
      ]
     },
     "execution_count": 4,
     "metadata": {},
     "output_type": "execute_result"
    }
   ],
   "source": [
    "movies.shape"
   ]
  },
  {
   "cell_type": "code",
   "execution_count": 5,
   "id": "b9986736-bb39-4822-80a7-a24ce0482151",
   "metadata": {},
   "outputs": [],
   "source": [
    "movies = movies[['movie_id', 'title', 'overview', 'genres', 'keywords', 'cast', 'crew']]"
   ]
  },
  {
   "cell_type": "code",
   "execution_count": 6,
   "id": "cdfb4c25-a566-4202-af3a-547265d4fac2",
   "metadata": {},
   "outputs": [],
   "source": [
    "movies.dropna(inplace=True)"
   ]
  },
  {
   "cell_type": "code",
   "execution_count": 7,
   "id": "b30789a4-0d21-4df7-b186-bf143418c841",
   "metadata": {},
   "outputs": [
    {
     "data": {
      "text/plain": [
       "(4806, 7)"
      ]
     },
     "execution_count": 7,
     "metadata": {},
     "output_type": "execute_result"
    }
   ],
   "source": [
    " movies.shape"
   ]
  },
  {
   "cell_type": "code",
   "execution_count": 8,
   "id": "ef2c2660-80c2-4d51-8727-ca62e0029a4b",
   "metadata": {},
   "outputs": [
    {
     "data": {
      "text/plain": [
       "0"
      ]
     },
     "execution_count": 8,
     "metadata": {},
     "output_type": "execute_result"
    }
   ],
   "source": [
    "movies.duplicated().sum()"
   ]
  },
  {
   "cell_type": "code",
   "execution_count": 9,
   "id": "8ed59f34-2bdd-4f2a-ad9b-20e7a613fc10",
   "metadata": {},
   "outputs": [],
   "source": [
    "def normalize_column(json_data, column_key, item_count=-1):\n",
    "    my_obj = json.loads(json_data)\n",
    "    end_index = len(my_obj) if item_count <= 0 else item_count\n",
    "    data = [re.sub(r'\\s+', '', item[column_key]) for item in my_obj[:end_index]]\n",
    "    return data\n",
    "\n",
    "\n",
    "def pluck_director(json_data):\n",
    "    my_obj = json.loads(json_data)\n",
    "    director = [re.sub(r'\\s+', '', item[\"name\"]) for item in my_obj if item[\"job\"] == \"Director\"]\n",
    "    return director\n",
    "\n",
    "\n",
    "def stem_text(text):\n",
    "    return \" \".join(map(text_stemmer.stem, text.split()))"
   ]
  },
  {
   "cell_type": "code",
   "execution_count": 10,
   "id": "14a95c3a-aa65-42ef-b05b-d43273245af4",
   "metadata": {},
   "outputs": [
    {
     "name": "stderr",
     "output_type": "stream",
     "text": [
      "C:\\Users\\thisi\\AppData\\Local\\Temp\\ipykernel_19516\\1493184996.py:10: SettingWithCopyWarning: \n",
      "A value is trying to be set on a copy of a slice from a DataFrame.\n",
      "Try using .loc[row_indexer,col_indexer] = value instead\n",
      "\n",
      "See the caveats in the documentation: https://pandas.pydata.org/pandas-docs/stable/user_guide/indexing.html#returning-a-view-versus-a-copy\n",
      "  training_data[\"stemmed\"] = (\n",
      "C:\\Users\\thisi\\AppData\\Local\\Temp\\ipykernel_19516\\1493184996.py:13: SettingWithCopyWarning: \n",
      "A value is trying to be set on a copy of a slice from a DataFrame.\n",
      "Try using .loc[row_indexer,col_indexer] = value instead\n",
      "\n",
      "See the caveats in the documentation: https://pandas.pydata.org/pandas-docs/stable/user_guide/indexing.html#returning-a-view-versus-a-copy\n",
      "  training_data[\"stemmed\"] = training_data[\"stemmed\"].apply(stem_text)\n"
     ]
    }
   ],
   "source": [
    "# normalize these objects from objects to lists of plucked values\n",
    "movies[\"genres\"] = movies[\"genres\"].apply(lambda json_data: normalize_column(json_data, \"name\"))\n",
    "movies[\"keywords\"] = movies[\"keywords\"].apply(lambda json_data: normalize_column(json_data, \"name\"))\n",
    "movies[\"cast\"] = movies[\"cast\"].apply(lambda json_data: normalize_column(json_data, \"name\", 3))\n",
    "movies[\"crew\"] = movies[\"crew\"].apply(pluck_director)\n",
    "movies[\"overview\"] = movies[\"overview\"].apply(lambda str_data: str_data.split())\n",
    "\n",
    "# classify the data\n",
    "training_data = movies[[\"movie_id\", \"title\"]]\n",
    "training_data[\"stemmed\"] = (\n",
    "        movies[\"overview\"] + movies[\"genres\"] + movies[\"keywords\"] + movies[\"cast\"] + movies[\"crew\"]\n",
    ").apply(lambda str_text: \" \".join(str_text).lower())\n",
    "training_data[\"stemmed\"] = training_data[\"stemmed\"].apply(stem_text)\n",
    "similarity_vectors = count_vectorizer.fit_transform(training_data[\"stemmed\"]).toarray()\n",
    "similarity_scores = cosine_similarity(similarity_vectors)"
   ]
  },
  {
   "cell_type": "code",
   "execution_count": 13,
   "id": "131189b3-f59e-4072-a99d-0c4611c0d25a",
   "metadata": {},
   "outputs": [],
   "source": [
    "    def get_recommendations(movie_title):\n",
    "        try:\n",
    "            index = training_data[training_data[\"title\"] == movie_title].index[0]\n",
    "            distances = sorted(list(enumerate(similarity_scores[index])), reverse=True, key=lambda x: x[1])\n",
    "\n",
    "            # Using list comprehension to collect recommendations\n",
    "            recommendations = [\n",
    "                {\n",
    "                    'title': training_data.iloc[i[0]]['title'],\n",
    "                    'movie_id': int(training_data.iloc[i[0]]['movie_id'])\n",
    "                }\n",
    "                for i in distances[1:6]\n",
    "            ]\n",
    "            return recommendations\n",
    "        except IndexError:\n",
    "            return []"
   ]
  },
  {
   "cell_type": "code",
   "execution_count": 14,
   "id": "1a5f6ace-fdec-47c2-ba4f-3e3dc300bc0d",
   "metadata": {},
   "outputs": [
    {
     "data": {
      "text/plain": [
       "[{'title': 'Spider-Man 3', 'movie_id': 559},\n",
       " {'title': 'Spider-Man 2', 'movie_id': 558},\n",
       " {'title': 'The Amazing Spider-Man 2', 'movie_id': 102382},\n",
       " {'title': 'Arachnophobia', 'movie_id': 6488},\n",
       " {'title': 'Kick-Ass', 'movie_id': 23483}]"
      ]
     },
     "execution_count": 14,
     "metadata": {},
     "output_type": "execute_result"
    }
   ],
   "source": [
    "get_recommendations('Spider-Man')"
   ]
  },
  {
   "cell_type": "code",
   "execution_count": 15,
   "id": "65a41b91-21b5-4ecd-822c-1f7a1bc613f4",
   "metadata": {},
   "outputs": [
    {
     "data": {
      "text/plain": [
       "[{'title': 'Batman', 'movie_id': 2661},\n",
       " {'title': 'Batman & Robin', 'movie_id': 415},\n",
       " {'title': 'Batman Begins', 'movie_id': 272},\n",
       " {'title': 'Batman Returns', 'movie_id': 364},\n",
       " {'title': 'The R.M.', 'movie_id': 36825}]"
      ]
     },
     "execution_count": 15,
     "metadata": {},
     "output_type": "execute_result"
    }
   ],
   "source": [
    "get_recommendations('Batman')"
   ]
  },
  {
   "cell_type": "code",
   "execution_count": null,
   "id": "3eae1419-d8dd-4f66-9278-8510c63a235f",
   "metadata": {},
   "outputs": [],
   "source": []
  }
 ],
 "metadata": {
  "kernelspec": {
   "display_name": "Python 3 (ipykernel)",
   "language": "python",
   "name": "python3"
  },
  "language_info": {
   "codemirror_mode": {
    "name": "ipython",
    "version": 3
   },
   "file_extension": ".py",
   "mimetype": "text/x-python",
   "name": "python",
   "nbconvert_exporter": "python",
   "pygments_lexer": "ipython3",
   "version": "3.8.1"
  }
 },
 "nbformat": 4,
 "nbformat_minor": 5
}
